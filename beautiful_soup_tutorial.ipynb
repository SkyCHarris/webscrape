{
 "cells": [
  {
   "cell_type": "markdown",
   "metadata": {},
   "source": [
    "## Beautiful Soup Crash Course\n",
    "\n",
    " https://www.youtube.com/watch?v=XVv6mJpFOb0&t=5s\n"
   ]
  },
  {
   "cell_type": "markdown",
   "metadata": {},
   "source": [
    "pip install beautiful soup"
   ]
  },
  {
   "cell_type": "markdown",
   "metadata": {},
   "source": [
    "First import BeautifulSoup"
   ]
  },
  {
   "cell_type": "code",
   "execution_count": 3,
   "metadata": {},
   "outputs": [],
   "source": [
    "from bs4 import BeautifulSoup"
   ]
  },
  {
   "cell_type": "markdown",
   "metadata": {},
   "source": [
    "Next figure out how to access the content inside the home.html file.\n",
    "\n",
    "File Objects:"
   ]
  },
  {
   "cell_type": "code",
   "execution_count": 5,
   "metadata": {},
   "outputs": [
    {
     "name": "stdout",
     "output_type": "stream",
     "text": [
      "<!doctype html>\n",
      "<html lang=\"en\">\n",
      "   <head>\n",
      "      <meta charset=\"utf-8\">\n",
      "      <meta name=\"viewport\" content=\"width=device-width, initial-scale=1, shrink-to-fit=no\">\n",
      "      <link rel=\"stylesheet\" href=\"https://stackpath.bootstrapcdn.com/bootstrap/4.5.2/css/bootstrap.min.css\" integrity=\"sha384-JcKb8q3iqJ61gNV9KGb8thSsNjpSL0n8PARn9HuZOnIxN0hoP+VmmDGMN5t9UJ0Z\" crossorigin=\"anonymous\">\n",
      "      <title>My Courses</title>\n",
      "   </head>\n",
      "   <body>\n",
      "      <h1>Hello, Start Learning!</h1>\n",
      "      <div class=\"card\" id=\"card-python-for-beginners\">\n",
      "         <div class=\"card-header\">\n",
      "            Python\n",
      "         </div>\n",
      "         <div class=\"card-body\">\n",
      "            <h5 class=\"card-title\">Python for beginners</h5>\n",
      "            <p class=\"card-text\">If you are new to Python, this is the course that you should buy!</p>\n",
      "            <a href=\"#\" class=\"btn btn-primary\">Start for 20$</a>\n",
      "         </div>\n",
      "      </div>\n",
      "      <div class=\"card\" id=\"card-python-web-development\">\n",
      "         <div class=\"card-header\">\n",
      "            Python\n",
      "         </div>\n",
      "         <div class=\"card-body\">\n",
      "            <h5 class=\"card-title\">Python Web Development</h5>\n",
      "            <p class=\"card-text\">If you feel enough confident with python, you are ready to learn how to create your own website!</p>\n",
      "            <a href=\"#\" class=\"btn btn-primary\">Start for 50$</a>\n",
      "         </div>\n",
      "      </div>\n",
      "      <div class=\"card\" id=\"card-python-machine-learning\">\n",
      "         <div class=\"card-header\">\n",
      "            Python\n",
      "         </div>\n",
      "         <div class=\"card-body\">\n",
      "            <h5 class=\"card-title\">Python Machine Learning</h5>\n",
      "            <p class=\"card-text\">Become a Python Machine Learning master!</p>\n",
      "            <a href=\"#\" class=\"btn btn-primary\">Start for 100$</a>\n",
      "         </div>\n",
      "      </div>\n",
      "   </body>\n",
      "</html>\n"
     ]
    }
   ],
   "source": [
    "with open('home.html', 'r') as html_file:\n",
    "    content = html_file.read()\n",
    "    print(content)"
   ]
  },
  {
   "cell_type": "code",
   "execution_count": 7,
   "metadata": {},
   "outputs": [
    {
     "name": "stdout",
     "output_type": "stream",
     "text": [
      "<!doctype html>\n",
      "<html lang=\"en\">\n",
      "   <head>\n",
      "      <meta charset=\"utf-8\">\n",
      "      <meta name=\"viewport\" content=\"width=device-width, initial-scale=1, shrink-to-fit=no\">\n",
      "      <link rel=\"stylesheet\" href=\"https://stackpath.bootstrapcdn.com/bootstrap/4.5.2/css/bootstrap.min.css\" integrity=\"sha384-JcKb8q3iqJ61gNV9KGb8thSsNjpSL0n8PARn9HuZOnIxN0hoP+VmmDGMN5t9UJ0Z\" crossorigin=\"anonymous\">\n",
      "      <title>My Courses</title>\n",
      "   </head>\n",
      "   <body>\n",
      "      <h1>Hello, Start Learning!</h1>\n",
      "      <div class=\"card\" id=\"card-python-for-beginners\">\n",
      "         <div class=\"card-header\">\n",
      "            Python\n",
      "         </div>\n",
      "         <div class=\"card-body\">\n",
      "            <h5 class=\"card-title\">Python for beginners</h5>\n",
      "            <p class=\"card-text\">If you are new to Python, this is the course that you should buy!</p>\n",
      "            <a href=\"#\" class=\"btn btn-primary\">Start for 20$</a>\n",
      "         </div>\n",
      "      </div>\n",
      "      <div class=\"card\" id=\"card-python-web-development\">\n",
      "         <div class=\"card-header\">\n",
      "            Python\n",
      "         </div>\n",
      "         <div class=\"card-body\">\n",
      "            <h5 class=\"card-title\">Python Web Development</h5>\n",
      "            <p class=\"card-text\">If you feel enough confident with python, you are ready to learn how to create your own website!</p>\n",
      "            <a href=\"#\" class=\"btn btn-primary\">Start for 50$</a>\n",
      "         </div>\n",
      "      </div>\n",
      "      <div class=\"card\" id=\"card-python-machine-learning\">\n",
      "         <div class=\"card-header\">\n",
      "            Python\n",
      "         </div>\n",
      "         <div class=\"card-body\">\n",
      "            <h5 class=\"card-title\">Python Machine Learning</h5>\n",
      "            <p class=\"card-text\">Become a Python Machine Learning master!</p>\n",
      "            <a href=\"#\" class=\"btn btn-primary\">Start for 100$</a>\n",
      "         </div>\n",
      "      </div>\n",
      "   </body>\n",
      "</html>\n",
      "<bound method Tag.prettify of <!DOCTYPE html>\n",
      "<html lang=\"en\">\n",
      "<head>\n",
      "<meta charset=\"utf-8\"/>\n",
      "<meta content=\"width=device-width, initial-scale=1, shrink-to-fit=no\" name=\"viewport\"/>\n",
      "<link crossorigin=\"anonymous\" href=\"https://stackpath.bootstrapcdn.com/bootstrap/4.5.2/css/bootstrap.min.css\" integrity=\"sha384-JcKb8q3iqJ61gNV9KGb8thSsNjpSL0n8PARn9HuZOnIxN0hoP+VmmDGMN5t9UJ0Z\" rel=\"stylesheet\"/>\n",
      "<title>My Courses</title>\n",
      "</head>\n",
      "<body>\n",
      "<h1>Hello, Start Learning!</h1>\n",
      "<div class=\"card\" id=\"card-python-for-beginners\">\n",
      "<div class=\"card-header\">\n",
      "            Python\n",
      "         </div>\n",
      "<div class=\"card-body\">\n",
      "<h5 class=\"card-title\">Python for beginners</h5>\n",
      "<p class=\"card-text\">If you are new to Python, this is the course that you should buy!</p>\n",
      "<a class=\"btn btn-primary\" href=\"#\">Start for 20$</a>\n",
      "</div>\n",
      "</div>\n",
      "<div class=\"card\" id=\"card-python-web-development\">\n",
      "<div class=\"card-header\">\n",
      "            Python\n",
      "         </div>\n",
      "<div class=\"card-body\">\n",
      "<h5 class=\"card-title\">Python Web Development</h5>\n",
      "<p class=\"card-text\">If you feel enough confident with python, you are ready to learn how to create your own website!</p>\n",
      "<a class=\"btn btn-primary\" href=\"#\">Start for 50$</a>\n",
      "</div>\n",
      "</div>\n",
      "<div class=\"card\" id=\"card-python-machine-learning\">\n",
      "<div class=\"card-header\">\n",
      "            Python\n",
      "         </div>\n",
      "<div class=\"card-body\">\n",
      "<h5 class=\"card-title\">Python Machine Learning</h5>\n",
      "<p class=\"card-text\">Become a Python Machine Learning master!</p>\n",
      "<a class=\"btn btn-primary\" href=\"#\">Start for 100$</a>\n",
      "</div>\n",
      "</div>\n",
      "</body>\n",
      "</html>>\n"
     ]
    }
   ],
   "source": [
    "with open('home.html', 'r') as html_file:\n",
    "    content = html_file.read()\n",
    "    print(content)\n",
    "\n",
    "    # Args: html file want to scrape, parser method we want to use\n",
    "    soup = BeautifulSoup(content, 'lxml')\n",
    "    print(soup.prettify)    # see html in pretty way"
   ]
  },
  {
   "cell_type": "code",
   "execution_count": 14,
   "metadata": {},
   "outputs": [
    {
     "name": "stdout",
     "output_type": "stream",
     "text": [
      "<h5 class=\"card-title\">Python for beginners</h5>\n"
     ]
    }
   ],
   "source": [
    "# Get specific information we want to grab\n",
    "with open('home.html', 'r') as html_file:\n",
    "    content = html_file.read()\n",
    "\n",
    "    soup = BeautifulSoup(content, 'lxml')\n",
    "    tags = soup.find('h5')  # search for specific html tag specified\n",
    "    print(tags)\n",
    "# Only grabs first <h5>"
   ]
  },
  {
   "cell_type": "code",
   "execution_count": 16,
   "metadata": {},
   "outputs": [
    {
     "name": "stdout",
     "output_type": "stream",
     "text": [
      "[<h5 class=\"card-title\">Python for beginners</h5>, <h5 class=\"card-title\">Python Web Development</h5>, <h5 class=\"card-title\">Python Machine Learning</h5>]\n"
     ]
    }
   ],
   "source": [
    "# Grab all instances of a tag\n",
    "with open('home.html', 'r') as html_file:\n",
    "    content = html_file.read()\n",
    "\n",
    "    soup = BeautifulSoup(content, 'lxml')\n",
    "    courses_html_tags = soup.find_all('h5')  # searches for all h5 tags\n",
    "    print(courses_html_tags)"
   ]
  },
  {
   "cell_type": "code",
   "execution_count": 19,
   "metadata": {},
   "outputs": [
    {
     "name": "stdout",
     "output_type": "stream",
     "text": [
      "Python for beginners\n",
      "Python Web Development\n",
      "Python Machine Learning\n"
     ]
    }
   ],
   "source": [
    "# Display all courses\n",
    "with open('home.html', 'r') as html_file:\n",
    "    content = html_file.read()\n",
    "\n",
    "    soup = BeautifulSoup(content, 'lxml')\n",
    "    courses_html_tags = soup.find_all('h5')\n",
    "    for course in courses_html_tags:\n",
    "        print(course.text)  # text attribute displays course text itself"
   ]
  },
  {
   "cell_type": "markdown",
   "metadata": {},
   "source": [
    "#### Real Websites\n",
    "\n",
    "Use 'inspect' tool of the browser\n",
    "\n",
    "Write program to search for price inside of div, grab price, program includes list of all the courses and the prices for each of them."
   ]
  },
  {
   "cell_type": "code",
   "execution_count": 23,
   "metadata": {},
   "outputs": [
    {
     "name": "stdout",
     "output_type": "stream",
     "text": [
      "<h5 class=\"card-title\">Python for beginners</h5>\n",
      "<h5 class=\"card-title\">Python Web Development</h5>\n",
      "<h5 class=\"card-title\">Python Machine Learning</h5>\n"
     ]
    }
   ],
   "source": [
    "\n",
    "# Iterate through course cards\n",
    "with open('home.html', 'r') as html_file:\n",
    "    content = html_file.read()\n",
    "\n",
    "    soup = BeautifulSoup(content, 'lxml')\n",
    "    course_cards = soup.find_all('div', class_='card')   # filter specific div cards we want\n",
    "\n",
    "    # Iterate, searching for course name and course price\n",
    "    for course in course_cards:\n",
    "        print(course.h5)    # use specifier (here h5) as attribute"
   ]
  },
  {
   "cell_type": "code",
   "execution_count": 25,
   "metadata": {},
   "outputs": [
    {
     "name": "stdout",
     "output_type": "stream",
     "text": [
      "Python for beginners\n",
      "Start for 20$\n",
      "Python Web Development\n",
      "Start for 50$\n",
      "Python Machine Learning\n",
      "Start for 100$\n"
     ]
    }
   ],
   "source": [
    "# Get course name, course price\n",
    "with open('home.html', 'r') as html_file:\n",
    "    content = html_file.read()\n",
    "\n",
    "    soup = BeautifulSoup(content, 'lxml')\n",
    "    course_cards = soup.find_all('div', class_='card')   # filter specific div cards we want\n",
    "\n",
    "    # Iterate, searching for course name and course price\n",
    "    for course in course_cards:\n",
    "        course_name = course.h5.text    # get text attribute of the h5 tag\n",
    "        course_price = course.a.text   # get text attribute of a tag, aka price\n",
    "        \n",
    "        print(course_name)\n",
    "        print(course_price)"
   ]
  },
  {
   "cell_type": "code",
   "execution_count": 29,
   "metadata": {},
   "outputs": [
    {
     "name": "stdout",
     "output_type": "stream",
     "text": [
      "Python for beginners costs 20$\n",
      "Python Web Development costs 50$\n",
      "Python Machine Learning costs 100$\n"
     ]
    }
   ],
   "source": [
    "# Write string to print findings (split method)\n",
    "with open('home.html', 'r') as html_file:\n",
    "    content = html_file.read()\n",
    "\n",
    "    soup = BeautifulSoup(content, 'lxml')\n",
    "    course_cards = soup.find_all('div', class_='card')\n",
    "\n",
    "    for course in course_cards:\n",
    "        course_name = course.h5.text\n",
    "        course_price = course.a.text.split()[-1]    # split to grab last element (numeric price)\n",
    "\n",
    "        print(f'{course_name} costs {course_price}')"
   ]
  },
  {
   "cell_type": "markdown",
   "metadata": {},
   "source": [
    "### Web Scraping Real Website\n",
    "\n",
    "Job advertisements\n",
    "Main skill is Python programming language\n",
    "Program pulls latest job ads"
   ]
  },
  {
   "cell_type": "code",
   "execution_count": null,
   "metadata": {},
   "outputs": [],
   "source": [
    "from bs4 import BeautifulSoup\n",
    "import requests # requesting information from specific website\n",
    "\n",
    "html_text = requests.get('')    # empty string for now, later insert URL"
   ]
  },
  {
   "cell_type": "code",
   "execution_count": 33,
   "metadata": {},
   "outputs": [
    {
     "name": "stdout",
     "output_type": "stream",
     "text": [
      "[]\n"
     ]
    }
   ],
   "source": [
    "from bs4 import BeautifulSoup\n",
    "import requests\n",
    "\n",
    "html_text = requests.get('https://cryptocurrencyjobs.co/?query=marketing').text # accept text only, bring text\n",
    "\n",
    "# create beautiful soup instance\n",
    "soup = BeautifulSoup(html_text, 'lxml') # lxml is the parser\n",
    "jobs = soup.find_all('li', class_= \"ais-Hits-item\")\n",
    "print(jobs)"
   ]
  },
  {
   "cell_type": "code",
   "execution_count": null,
   "metadata": {},
   "outputs": [],
   "source": [
    "<li class=\"ais-Hits-item\"><div class=\"grid text-sm text-gray-600 bg-gray-50 border-t border-gray-200 p-4 sm:p-6\" style=\"grid-template-columns: auto minmax(0, 1fr)\"> <img class=\"h-8 sm:h-10 md:h-11 w-8 sm:w-10 md:w-11 bg-white border border-gray-100 sm:mr-4 rounded-full lazyautosizes lazyloaded\" src=\"/startups/assets/logos/lightshift.2bfa2e81ffe2e74d8bb68f10f424662270821b843cb603b5791143c4fbdc327a.jpg\" srcset=\"/startups/assets/logos/_hu6d033e8fa1200f31cd1136e122c3bf2a_6244_a7a30d7a698997571580d866311e6cd7.jpg 44w, /startups/assets/logos/_hu6d033e8fa1200f31cd1136e122c3bf2a_6244_5bd5b2e6290d1e95a0c8e183c59fc60d.jpg 88w\" data-sizes=\"auto\" data-src=\"/startups/assets/logos/lightshift.2bfa2e81ffe2e74d8bb68f10f424662270821b843cb603b5791143c4fbdc327a.jpg\" data-srcset=\"/startups/assets/logos/_hu6d033e8fa1200f31cd1136e122c3bf2a_6244_a7a30d7a698997571580d866311e6cd7.jpg 44w, /startups/assets/logos/_hu6d033e8fa1200f31cd1136e122c3bf2a_6244_5bd5b2e6290d1e95a0c8e183c59fc60d.jpg 88w\" height=\"44\" width=\"44\" alt=\"Lightshift logo\" sizes=\"44px\"> <div class=\"col-start-1 sm:col-start-2 row-start-2 sm:row-start-1\"> <h2 class=\"text-lg sm:text-xl md:text-2xl text-gray-800 font-bold mt-2 sm:mt-0\"> <a class=\"hover:text-purple transition-colors\" href=\"/marketing/lightshift-head-of-marketing/\" onclick=\"trackOutboundLink('Head of Marketing at Lightshift')\"> Head of Marketing </a> </h2> <h3 class=\"text-base md:text-lg text-gray-800\"> <a class=\"hover:text-purple transition-colors\" href=\"/startups/lightshift/\"> Lightshift </a> </h3> </div> <div class=\"col-start-1 sm:col-start-2 col-end-2 sm:col-end-4\"> <div class=\"flex flex-row flex-wrap mt-3 space-x-1 sm:space-x-2\"> <ul class=\"leading-relaxed sm:leading-normal\"> <li class=\"inline\"> <h4 class=\"inline\"> <a class=\"hover:text-purple transition-colors\" href=\"/remote/\">Remote</a> </h4> </li> </ul> <span aria-hidden=\"true\">·</span> <h4 class=\"leading-relaxed sm:leading-normal\"> <a class=\"hover:text-purple transition-colors\" href=\"/marketing/\"> Marketing </a> </h4> <span aria-hidden=\"true\">·</span> <ul class=\"leading-relaxed sm:leading-normal\"> <li class=\"inline-block\"> <h4 class=\"inline\"><a class=\"hover:text-purple transition-colors\" href=\"/full-time/\">Full-Time</a></h4> </li> </ul> </div> <ul class=\"flex flex-wrap -mb-1 sm:-mb-0.5 mt-1 md:mt-2 -mx-1 sm:-mx-0.5\"> <li class=\"border border-gray-300 m-1 sm:m-0.5 rounded-md group hover:border-purple transition-colors\"> <a class=\"block group-hover:text-purple p-1\" href=\"/event-marketing/\"> Event Marketing </a> </li> <li class=\"border border-gray-300 m-1 sm:m-0.5 rounded-md group hover:border-purple transition-colors\"> <a class=\"block group-hover:text-purple p-1\" href=\"/marketing-manager/\"> Marketing Manager </a> </li> <li class=\"border border-gray-300 m-1 sm:m-0.5 rounded-md\"> <span class=\"block p-1\">Marketing Strategy</span> </li> <li class=\"border border-gray-300 m-1 sm:m-0.5 rounded-md group hover:border-purple transition-colors\"> <a class=\"block group-hover:text-purple p-1\" href=\"/non-tech/\"> Non-Tech </a> </li> <li class=\"border border-gray-300 m-1 sm:m-0.5 rounded-md group hover:border-purple transition-colors\"> <a class=\"block group-hover:text-purple p-1\" href=\"/social-media-marketing/\"> Social Media Marketing </a> </li> <li class=\"border border-gray-300 m-1 sm:m-0.5 rounded-md group hover:border-purple transition-colors\"> <a class=\"block group-hover:text-purple p-1\" href=\"/web3/\"> web3 </a> </li> </ul> </div> <div class=\"col-start-3 row-start-1 flex items-baseline justify-end self-center sm:self-auto\"> <div class=\"inline-block leading-loose sm:mr-4\"> <time datetime=\"2024-01-22T16:58:08\"></time> <span>1d</span> </div> <div class=\"hidden sm:inline-block text-white font-medium bg-gradient-to-b from-gray-600 to-gray-700 px-4 py-1.5 rounded-full\"> <span>Featured</span> </div> </div> </div> </li>"
   ]
  }
 ],
 "metadata": {
  "kernelspec": {
   "display_name": "webscrape_env",
   "language": "python",
   "name": "python3"
  },
  "language_info": {
   "codemirror_mode": {
    "name": "ipython",
    "version": 3
   },
   "file_extension": ".py",
   "mimetype": "text/x-python",
   "name": "python",
   "nbconvert_exporter": "python",
   "pygments_lexer": "ipython3",
   "version": "3.12.1"
  }
 },
 "nbformat": 4,
 "nbformat_minor": 2
}
